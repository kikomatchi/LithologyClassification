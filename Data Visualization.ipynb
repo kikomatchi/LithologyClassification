{
 "cells": [
  {
   "cell_type": "code",
   "execution_count": null,
   "metadata": {},
   "outputs": [],
   "source": [
    "import pandas as pd\n",
    "import matplotlib.pyplot as plt\n",
    "import numpy as np\n",
    "import seaborn as sns\n",
    "\n",
    "df = pd.read_csv('Classified to LythologyForce/7_1-1_Lithology.csv')\n",
    "df.info()"
   ]
  },
  {
   "cell_type": "code",
   "execution_count": null,
   "metadata": {},
   "outputs": [],
   "source": [
    "import matplotlib.pyplot as plt\n",
    "import matplotlib.patches as mpatches\n",
    "\n",
    "color_dict = {\n",
    "    'Sandstone': '#E69F00',       # Bright orange\n",
    "    'Sandstone/Shale': '#56B4E9', # Sky blue\n",
    "    'Shale': '#009E73',           # Dark green\n",
    "    'Marl': '#F0E442',            # Yellow\n",
    "    'Dolomite': '#0072B2',        # Blue\n",
    "    'Limestone': '#D55E00',       # Dark orange\n",
    "    'Chalk': '#CC79A7',           # Pink\n",
    "    'Halite': '#F4A460',          # Sandy brown\n",
    "    'Anhydrite': '#8B4513',       # Saddle brown\n",
    "    'Tuff': '#9400D3',            # Dark violet\n",
    "    'Coal': '#000000',            # Black\n",
    "    'Basement': '#DC143C'         # Crimson\n",
    "}\n",
    "\n",
    "# Sort the DataFrame by depth\n",
    "df_sorted = df.sort_values('DEPT')\n",
    "\n",
    "# Create a stratigraphic column using a bar plot\n",
    "plt.figure(figsize=(8, 12))\n",
    "plt.barh(df_sorted['DEPT'], [1]*len(df_sorted), color=df_sorted['FORCE_2020_LITHOFACIES_LITHOLOGY'].map(color_dict))\n",
    "\n",
    "# Labeling the axes\n",
    "plt.xlabel('Lithology')\n",
    "plt.ylabel('Depth')\n",
    "\n",
    "# Reverse the y-axis so depth increases downward\n",
    "plt.gca().invert_yaxis()\n",
    "\n",
    "# Create legend patches\n",
    "legend_patches = [mpatches.Patch(color=color, label=lithology) for lithology, color in color_dict.items()]\n",
    "\n",
    "# Add legend to the plot\n",
    "plt.legend(handles=legend_patches, title=\"Lithology\", bbox_to_anchor=(1.05, 1), loc='upper left')\n",
    "\n",
    "# Add a title\n",
    "plt.title('Lithology Distribution Across Depth')\n",
    "\n",
    "# Show the plot\n",
    "plt.show()\n"
   ]
  }
 ],
 "metadata": {
  "kernelspec": {
   "display_name": "Python 3",
   "language": "python",
   "name": "python3"
  },
  "language_info": {
   "codemirror_mode": {
    "name": "ipython",
    "version": 3
   },
   "file_extension": ".py",
   "mimetype": "text/x-python",
   "name": "python",
   "nbconvert_exporter": "python",
   "pygments_lexer": "ipython3",
   "version": "3.12.4"
  }
 },
 "nbformat": 4,
 "nbformat_minor": 2
}
