{
 "cells": [
  {
   "cell_type": "markdown",
   "metadata": {},
   "source": [
    "Move to process to train the model for lithology classification"
   ]
  },
  {
   "cell_type": "markdown",
   "metadata": {},
   "source": [
    "Import necessary libraries and the dataset we have celaned and imputate to create the model for classified lithology"
   ]
  },
  {
   "cell_type": "code",
   "execution_count": null,
   "metadata": {},
   "outputs": [],
   "source": [
    "import pandas as pd\n",
    "import numpy as np\n",
    "import matplotlib.pyplot as plt\n",
    "import seaborn as sns\n",
    "\n",
    "df = pd.read_csv('df_filtered_model_imputed.csv')\n",
    "\n",
    "df.head()\n",
    "df.info()"
   ]
  },
  {
   "cell_type": "markdown",
   "metadata": {},
   "source": [
    "Train the model process. model used for lithology classification is RandomForestClassifier we train test splot the data and evaluate the model. if the evaluate model is great then importing the model for future use"
   ]
  },
  {
   "cell_type": "code",
   "execution_count": null,
   "metadata": {},
   "outputs": [],
   "source": [
    "from sklearn.model_selection import train_test_split\n",
    "from sklearn.ensemble import RandomForestClassifier\n",
    "from sklearn.metrics import classification_report, accuracy_score\n",
    "import joblib\n",
    "\n",
    "X = df.drop(columns=['FORCE_2020_LITHOFACIES_LITHOLOGY'])\n",
    "y = df['FORCE_2020_LITHOFACIES_LITHOLOGY']\n",
    "\n",
    "# Drop rows where the target is missing\n",
    "X = X.loc[~y.isna()]\n",
    "y = y.dropna()\n",
    "\n",
    "# Ensure no missing values in features and target\n",
    "assert not X.isna().any().any(), \"Features contain missing values\"\n",
    "assert not y.isna().any(), \"Target contains missing values\"\n",
    "\n",
    "# Split the data into training and testing sets\n",
    "X_train, X_test, y_train, y_test = train_test_split(X, y, test_size=0.2, random_state=42)\n",
    "\n",
    "# Initialize and train the RandomForestClassifier\n",
    "classifier = RandomForestClassifier(n_estimators=100, random_state=42)\n",
    "classifier.fit(X_train, y_train)\n",
    "\n",
    "# Predict on the test set\n",
    "y_pred = classifier.predict(X_test)\n",
    "\n",
    "# Evaluate the model\n",
    "print(\"Accuracy:\", accuracy_score(y_test, y_pred))\n",
    "print(\"Classification Report:\")\n",
    "print(classification_report(y_test, y_pred))\n",
    "\n",
    "# Save the model\n",
    "joblib.dump(classifier, 'lithology_classifier.pkl')\n",
    "print(\"Lithology classifier model saved as 'lithology_classifier.pkl'.\")\n",
    "\n"
   ]
  },
  {
   "cell_type": "markdown",
   "metadata": {},
   "source": [
    "Load the model weh have evaluate and train, and test it on dataset we cleaned to see the lithology classification result"
   ]
  },
  {
   "cell_type": "code",
   "execution_count": null,
   "metadata": {},
   "outputs": [],
   "source": [
    "# Load the trained model\n",
    "model = joblib.load('lithology_classifier.pkl')\n",
    "\n",
    "# Filter rows where the target column has missing values\n",
    "missing_mask = df['FORCE_2020_LITHOFACIES_LITHOLOGY'].isna()\n",
    "df_missing = df[missing_mask]\n",
    "\n",
    "# Drop the target column to get features\n",
    "X_missing = df_missing.drop(columns=['FORCE_2020_LITHOFACIES_LITHOLOGY'])\n",
    "\n",
    "# Predict missing values\n",
    "predicted_values = model.predict(X_missing)\n",
    "\n",
    "# Update the DataFrame with the predicted values\n",
    "df.loc[missing_mask, 'FORCE_2020_LITHOFACIES_LITHOLOGY'] = predicted_values\n",
    "\n",
    "# Save the updated DataFrame to a CSV file\n",
    "df.to_csv('updated_df.csv', index=False)\n",
    "\n",
    "print(\"Missing values predicted and saved to 'updated_df.csv'.\")\n"
   ]
  },
  {
   "cell_type": "code",
   "execution_count": null,
   "metadata": {},
   "outputs": [],
   "source": [
    "df['FORCE_2020_LITHOFACIES_LITHOLOGY'].unique()"
   ]
  }
 ],
 "metadata": {
  "kernelspec": {
   "display_name": "Python 3",
   "language": "python",
   "name": "python3"
  },
  "language_info": {
   "codemirror_mode": {
    "name": "ipython",
    "version": 3
   },
   "file_extension": ".py",
   "mimetype": "text/x-python",
   "name": "python",
   "nbconvert_exporter": "python",
   "pygments_lexer": "ipython3",
   "version": "3.12.4"
  }
 },
 "nbformat": 4,
 "nbformat_minor": 2
}
