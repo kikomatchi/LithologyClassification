{
 "cells": [
  {
   "cell_type": "markdown",
   "metadata": {},
   "source": [
    "Importing libraries and several well log dataset to combine. This process is necesarry due to: not every lithology are avaiable on every well logs. so to deterimine all the lithology value several well logs data are combined. "
   ]
  },
  {
   "cell_type": "code",
   "execution_count": null,
   "metadata": {},
   "outputs": [],
   "source": [
    "import pandas as pd\n",
    "import numpy as np\n",
    "\n",
    "df1 = pd.read_csv('31_2-7.csv')\n",
    "df2 = pd.read_csv('35_11-10.csv')\n",
    "df3 = pd.read_csv('34_10-19.csv')\n",
    "df4 = pd.read_csv('33_9-17.csv')\n",
    "df5 = pd.read_csv('25_11-24.csv')\n",
    "df6 = pd.read_csv('16_10-2.csv')\n",
    "df6 = df6.iloc[1:] \n",
    "# Drop the first row, due to some of the dataset have the first row as physics unit such as ms/cm etc\n",
    "df7 = pd.read_csv('15_9-14.csv')\n",
    "df7 = df7.iloc[1:]\n",
    "df8 = pd.read_csv('7_1-1.csv')\n",
    "df8.head()"
   ]
  },
  {
   "cell_type": "markdown",
   "metadata": {},
   "source": [
    "There's some extreme negative unit on 'RXO' columns, in well logs extreme negative value like -999.99 usually detirmine that the value is missing. so extreme negative value is replaced to NaN or missing data "
   ]
  },
  {
   "cell_type": "code",
   "execution_count": null,
   "metadata": {},
   "outputs": [],
   "source": [
    "df = pd.concat([df1, df2, df3, df4, df5, df6, df7, df8], ignore_index=True)\n",
    "df = df.apply(pd.to_numeric, errors='coerce')\n",
    "df['RXO'] = df['RXO'].replace(-597.3141479, np.nan)\n",
    "df['RXO'].unique()\n",
    "\n"
   ]
  },
  {
   "cell_type": "markdown",
   "metadata": {},
   "source": [
    "Due to hardware computing capabilities, columns is reduced to make the dataframe smaller. we chose the most crusial property on lithology classification like 'GR', 'RHOB', 'NPHI', 'DTC', 'RDEP', 'RXO', 'RSHA'"
   ]
  },
  {
   "cell_type": "code",
   "execution_count": null,
   "metadata": {},
   "outputs": [],
   "source": [
    "filtered_model = ['GR', 'RHOB', 'NPHI', 'DTC', 'RDEP', 'RXO', 'RSHA', 'FORCE_2020_LITHOFACIES_LITHOLOGY']\n",
    "df_filtered_model = df[filtered_model]\n",
    "df_filtered_model.info()"
   ]
  },
  {
   "cell_type": "markdown",
   "metadata": {},
   "source": [
    "Now for Handling missing value and scaling it using StandardScaler, we make a model to predict and imputate the missing value. Model used on this imputatation process is RandomForestReggresor."
   ]
  },
  {
   "cell_type": "code",
   "execution_count": null,
   "metadata": {},
   "outputs": [],
   "source": [
    "from sklearn.ensemble import RandomForestRegressor\n",
    "from sklearn.preprocessing import StandardScaler\n",
    "from sklearn.metrics import mean_squared_error\n",
    "\n",
    "# Separate features and target columns\n",
    "target_columns = ['GR', 'RHOB', 'NPHI', 'DTC', 'RDEP', 'RXO', 'RSHA']\n",
    "features_columns = [col for col in df_filtered_model.columns if col not in target_columns]\n",
    "\n",
    "# Create a DataFrame to store imputed values\n",
    "df_imputed = df_filtered_model.copy()\n",
    "\n",
    "# Initialize scaler\n",
    "scaler = StandardScaler()\n",
    "\n",
    "# Separate complete and incomplete data\n",
    "complete_data = df_filtered_model.dropna(subset=target_columns)\n",
    "incomplete_data = df_filtered_model[df_filtered_model.isnull().any(axis=1)]\n",
    "\n",
    "# Scale the features\n",
    "scaler.fit(complete_data[features_columns])\n",
    "complete_data_scaled = pd.DataFrame(scaler.transform(complete_data[features_columns]), columns=features_columns, index=complete_data.index)\n",
    "incomplete_data_scaled = pd.DataFrame(scaler.transform(incomplete_data[features_columns]), columns=features_columns, index=incomplete_data.index)\n",
    "\n",
    "# Impute missing values column by column\n",
    "for column in target_columns:\n",
    "    # Create a mask for missing values in the column\n",
    "    mask = df_filtered_model[column].isnull()\n",
    "    \n",
    "    if mask.any():\n",
    "        print(f\"Imputing missing values for column: {column}\")\n",
    "        \n",
    "        # Prepare training data from the complete dataset\n",
    "        X_train = complete_data_scaled\n",
    "        y_train = complete_data[column]\n",
    "        \n",
    "        # Initialize and train the RandomForestRegressor\n",
    "        regressor = RandomForestRegressor(n_estimators=100, random_state=42)\n",
    "        regressor.fit(X_train, y_train)\n",
    "        \n",
    "        # Predict missing values in the incomplete data\n",
    "        X_missing = incomplete_data_scaled[mask]\n",
    "        imputed_values = regressor.predict(X_missing)\n",
    "        \n",
    "        # Impute missing values in the DataFrame\n",
    "        df_imputed.loc[mask, column] = imputed_values\n",
    "        \n",
    "        # Optionally print out the performance\n",
    "        if not X_train.empty:\n",
    "            y_pred_train = regressor.predict(X_train)\n",
    "            mse = mean_squared_error(y_train, y_pred_train)\n",
    "            print(f\"Imputation MSE for column '{column}': {mse:.4f}\")\n",
    "\n",
    "# Verify the imputation\n",
    "print(df_imputed.info())\n"
   ]
  },
  {
   "cell_type": "markdown",
   "metadata": {},
   "source": [
    "Now we evaluate the model accuracy or ecceftiveness, using mean squared error and r2score. then we loop the evalutaion to each model for each columns"
   ]
  },
  {
   "cell_type": "code",
   "execution_count": 29,
   "metadata": {},
   "outputs": [
    {
     "name": "stdout",
     "output_type": "stream",
     "text": [
      "Evaluation for column 'GR':\n",
      "Mean Squared Error (MSE): 237.3588\n",
      "R-squared (R²): 0.8145\n",
      "Model for column 'GR' saved as 'GR_regressor.pkl'\n",
      "\n",
      "Evaluation for column 'RHOB':\n",
      "Mean Squared Error (MSE): 0.0035\n",
      "R-squared (R²): 0.9260\n",
      "Model for column 'RHOB' saved as 'RHOB_regressor.pkl'\n",
      "\n",
      "Evaluation for column 'NPHI':\n",
      "Mean Squared Error (MSE): 0.0010\n",
      "R-squared (R²): 0.9286\n",
      "Model for column 'NPHI' saved as 'NPHI_regressor.pkl'\n",
      "\n",
      "Evaluation for column 'DTC':\n",
      "Mean Squared Error (MSE): 56.2338\n",
      "R-squared (R²): 0.9380\n",
      "Model for column 'DTC' saved as 'DTC_regressor.pkl'\n",
      "\n",
      "Evaluation for column 'RDEP':\n",
      "Mean Squared Error (MSE): 309.5248\n",
      "R-squared (R²): 0.3007\n",
      "Model for column 'RDEP' saved as 'RDEP_regressor.pkl'\n",
      "\n",
      "Evaluation for column 'RXO':\n",
      "Mean Squared Error (MSE): 376.4542\n",
      "R-squared (R²): 0.9643\n",
      "Model for column 'RXO' saved as 'RXO_regressor.pkl'\n",
      "\n",
      "Evaluation for column 'RSHA':\n",
      "Mean Squared Error (MSE): 73.1303\n",
      "R-squared (R²): 0.6105\n",
      "Model for column 'RSHA' saved as 'RSHA_regressor.pkl'\n",
      "\n"
     ]
    }
   ],
   "source": [
    "from sklearn.model_selection import train_test_split\n",
    "from sklearn.metrics import mean_squared_error, r2_score\n",
    "import joblib\n",
    "\n",
    "target_columns = ['GR', 'RHOB', 'NPHI', 'DTC', 'RDEP', 'RXO', 'RSHA']\n",
    "\n",
    "# Iterate over each target column\n",
    "for target_column in target_columns:\n",
    "    # Separate features and target variable\n",
    "    features = df_filtered_model.drop(columns=[target_column])\n",
    "    target = df_filtered_model[target_column]\n",
    "\n",
    "    # Remove rows with NaN in target column\n",
    "    valid_data = df_filtered_model.dropna(subset=[target_column])\n",
    "    features_valid = valid_data.drop(columns=[target_column])\n",
    "    target_valid = valid_data[target_column]\n",
    "\n",
    "    # Split the data into training and testing sets\n",
    "    X_train, X_test, y_train, y_test = train_test_split(features_valid, target_valid, test_size=0.3, random_state=42)\n",
    "\n",
    "    # Initialize and train the RandomForestRegressor\n",
    "    regressor = RandomForestRegressor(n_estimators=100, random_state=42)\n",
    "    regressor.fit(X_train, y_train)\n",
    "\n",
    "    # Predict on the test set\n",
    "    y_pred = regressor.predict(X_test)\n",
    "\n",
    "    # Evaluate the model\n",
    "    mse = mean_squared_error(y_test, y_pred)\n",
    "    r2 = r2_score(y_test, y_pred)\n",
    "\n",
    "    print(f\"Evaluation for column '{target_column}':\")\n",
    "    print(f\"Mean Squared Error (MSE): {mse:.4f}\")\n",
    "    print(f\"R-squared (R²): {r2:.4f}\")\n",
    "\n",
    "    # Save the model\n",
    "    model_filename = f'{target_column}_regressor.pkl'\n",
    "    joblib.dump(regressor, model_filename)\n",
    "    print(f\"Model for column '{target_column}' saved as '{model_filename}'\\n\")\n"
   ]
  },
  {
   "cell_type": "markdown",
   "metadata": {},
   "source": [
    "The model has been evaluated and have great evaltion, then we import the model and test it for future use"
   ]
  },
  {
   "cell_type": "code",
   "execution_count": null,
   "metadata": {},
   "outputs": [],
   "source": [
    "models = {\n",
    "    'GR': joblib.load('GR_regressor.pkl'),\n",
    "    'RHOB': joblib.load('RHOB_regressor.pkl'),\n",
    "    'NPHI': joblib.load('NPHI_regressor.pkl'),\n",
    "    'DTC': joblib.load('DTC_regressor.pkl'),\n",
    "    'RDEP': joblib.load('RDEP_regressor.pkl'),\n",
    "    'RXO': joblib.load('RXO_regressor.pkl'),\n",
    "    'RSHA': joblib.load('RSHA_regressor.pkl')\n",
    "}\n",
    "\n",
    "def impute_column(df, column_name, model):\n",
    "    missing_mask = df[column_name].isna()\n",
    "    if missing_mask.sum() > 0:  # Check if there are missing values to impute\n",
    "        missing_data = df[missing_mask]\n",
    "        if missing_data.shape[0] > 0:\n",
    "            features = missing_data.drop(columns=[column_name])\n",
    "            # Ensure that features do not contain NaNs\n",
    "            features = features.fillna(features.median())\n",
    "            predicted_values = model.predict(features)\n",
    "            df.loc[missing_mask, column_name] = predicted_values\n",
    "        else:\n",
    "            print(f\"No missing data found for column '{column_name}'.\")\n",
    "    else:\n",
    "        print(f\"No missing values to impute for column '{column_name}'.\")\n",
    "\n",
    "# Impute missing values\n",
    "for column in models.keys():\n",
    "    if column in df_filtered_model.columns:\n",
    "        impute_column(df_filtered_model, column, models[column])\n",
    "\n",
    "# Print the results\n",
    "print(\"First few rows of the imputed DataFrame:\")\n",
    "print(df_filtered_model.head())\n",
    "\n",
    "print(\"\\nSummary statistics of the DataFrame:\")\n",
    "print(df_filtered_model.describe())\n",
    "\n",
    "print(\"\\nCount of missing values in each column:\")\n",
    "print(df_filtered_model.isna().sum())\n",
    "\n",
    "# Save the DataFrame to CSV\n",
    "df_filtered_model.to_csv('df_filtered_model_imputed.csv', index=False)\n",
    "print(\"\\nDataFrame with imputed values saved to 'df_filtered_model_imputed.csv'.\")\n"
   ]
  }
 ],
 "metadata": {
  "kernelspec": {
   "display_name": "Python 3",
   "language": "python",
   "name": "python3"
  },
  "language_info": {
   "codemirror_mode": {
    "name": "ipython",
    "version": 3
   },
   "file_extension": ".py",
   "mimetype": "text/x-python",
   "name": "python",
   "nbconvert_exporter": "python",
   "pygments_lexer": "ipython3",
   "version": "3.12.4"
  }
 },
 "nbformat": 4,
 "nbformat_minor": 2
}
