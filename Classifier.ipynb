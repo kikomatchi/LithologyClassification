{
 "cells": [
  {
   "cell_type": "markdown",
   "metadata": {},
   "source": [
    "Classified the well logs we have with model we have trained an evaluate"
   ]
  },
  {
   "cell_type": "markdown",
   "metadata": {},
   "source": [
    "Import necessary libraries and dataset we want to classified"
   ]
  },
  {
   "cell_type": "code",
   "execution_count": null,
   "metadata": {},
   "outputs": [],
   "source": [
    "import pandas as pd\n",
    "import numpy as np\n",
    "\n",
    "df = pd.read_csv('IMPUTED DATA/7_1-1_imputed.csv') #Adjust with well imputed file\n",
    "\n",
    "df.head()\n",
    "df.info()"
   ]
  },
  {
   "cell_type": "markdown",
   "metadata": {},
   "source": [
    "Seperate the depth and feature values that used for predict the lithlogy"
   ]
  },
  {
   "cell_type": "code",
   "execution_count": null,
   "metadata": {},
   "outputs": [],
   "source": [
    "filtered_model = ['GR', 'RHOB', 'NPHI', 'DTC', 'RDEP', 'RXO', 'RSHA', 'FORCE_2020_LITHOFACIES_LITHOLOGY'] \n",
    "df_filtered_model = df[filtered_model]\n",
    "other_columns = df.drop(columns=filtered_model)\n",
    "other_columns.info()\n",
    "df_filtered_model.info()\n",
    "df_filtered_model_classified = df_filtered_model.copy()"
   ]
  },
  {
   "cell_type": "markdown",
   "metadata": {},
   "source": [
    "Load the model to predict the lithology on well logs data"
   ]
  },
  {
   "cell_type": "code",
   "execution_count": null,
   "metadata": {},
   "outputs": [],
   "source": [
    "import joblib\n",
    "\n",
    "model = joblib.load('lithology_classifier.pkl')\n",
    "\n",
    "# Filter rows where the target column has missing values\n",
    "missing_mask = df_filtered_model_classified['FORCE_2020_LITHOFACIES_LITHOLOGY'].isna()\n",
    "df_missing = df_filtered_model_classified[missing_mask]\n",
    "\n",
    "# Drop the target column to get features\n",
    "X_missing = df_missing.drop(columns=['FORCE_2020_LITHOFACIES_LITHOLOGY'])\n",
    "\n",
    "# Predict missing values\n",
    "if not X_missing.empty:\n",
    "    predicted_values = model.predict(X_missing)\n",
    "\n",
    "    # Update the DataFrame with the predicted values\n",
    "    df_filtered_model_classified.loc[missing_mask, 'FORCE_2020_LITHOFACIES_LITHOLOGY'] = predicted_values\n",
    "\n",
    "    # Save the updated DataFrame to a CSV file\n",
    "    df_filtered_model_classified.to_csv('7_1-1_Classified.csv', index=False)\n",
    "\n",
    "    print(\"Missing values predicted and saved to '7_1-1_Classified.csv'.\")\n",
    "else:\n",
    "    print(\"No missing values found to predict.\")"
   ]
  },
  {
   "cell_type": "markdown",
   "metadata": {},
   "source": [
    "Combine the predicted lithology dataset with depth value again to see wich lithology on wich depth"
   ]
  },
  {
   "cell_type": "code",
   "execution_count": null,
   "metadata": {},
   "outputs": [],
   "source": [
    "df_filtered_model_classified['FORCE_2020_LITHOFACIES_LITHOLOGY'].unique()\n",
    "df_filtered_model_classified.info()\n",
    "df_result = pd.concat([other_columns, df_filtered_model_classified], axis=1)\n",
    "df_result.info()"
   ]
  },
  {
   "cell_type": "markdown",
   "metadata": {},
   "source": [
    "defince the mapping lithology based on FORCE website with predicted values and import the result to csv"
   ]
  },
  {
   "cell_type": "code",
   "execution_count": null,
   "metadata": {},
   "outputs": [],
   "source": [
    "# Define the mapping dictionary\n",
    "lithology_mapping = {\n",
    "    30000: 'Sandstone',\n",
    "    65030: 'Sandstone/Shale',\n",
    "    65000: 'Shale',\n",
    "    80000: 'Marl',\n",
    "    74000: 'Dolomite',\n",
    "    70000: 'Limestone',\n",
    "    70032: 'Chalk',\n",
    "    88000: 'Halite',\n",
    "    86000: 'Anhydrite',\n",
    "    99000: 'Tuff',\n",
    "    90000: 'Coal',\n",
    "    93000: 'Basement'\n",
    "}\n",
    "\n",
    "# Replace the values in the 'FORCE_2020_LITHOFACIES_LITHOLOGY' column using the mapping\n",
    "df_result['FORCE_2020_LITHOFACIES_LITHOLOGY'] = df_result['FORCE_2020_LITHOFACIES_LITHOLOGY'].replace(lithology_mapping)\n",
    "df_result.to_csv('7_1-1_Lithology.csv', index=False)"
   ]
  },
  {
   "cell_type": "code",
   "execution_count": null,
   "metadata": {},
   "outputs": [],
   "source": [
    "df_result['FORCE_2020_LITHOFACIES_LITHOLOGY'].unique()"
   ]
  }
 ],
 "metadata": {
  "kernelspec": {
   "display_name": "Python 3",
   "language": "python",
   "name": "python3"
  },
  "language_info": {
   "codemirror_mode": {
    "name": "ipython",
    "version": 3
   },
   "file_extension": ".py",
   "mimetype": "text/x-python",
   "name": "python",
   "nbconvert_exporter": "python",
   "pygments_lexer": "ipython3",
   "version": "3.12.4"
  }
 },
 "nbformat": 4,
 "nbformat_minor": 2
}
